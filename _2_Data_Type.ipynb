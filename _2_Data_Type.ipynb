{
 "cells": [
  {
   "cell_type": "code",
   "execution_count": 3,
   "id": "53ce8ebe",
   "metadata": {},
   "outputs": [
    {
     "name": "stdout",
     "output_type": "stream",
     "text": [
      "hello3\n",
      "goodbyeFalse\n"
     ]
    }
   ],
   "source": [
    "# String + opertaion\n",
    "# Python: String + String -> String\n",
    "# String + other type data -> error\n",
    "# s = 'hello' + 3\n",
    "\n",
    "x = 3\n",
    "s = 'hello' + str(x) #explicit conversion\n",
    "print(s)\n",
    "print('goodbye' + str(False))"
   ]
  },
  {
   "cell_type": "code",
   "execution_count": 12,
   "id": "02bc76f4",
   "metadata": {},
   "outputs": [
    {
     "name": "stdout",
     "output_type": "stream",
     "text": [
      "P\n",
      "n\n",
      "h\n",
      "Pyt\n",
      "on\n",
      "t\n",
      "python\n",
      "PYTHON\n",
      "Pxthon\n"
     ]
    }
   ],
   "source": [
    "# Java charAt\n",
    "word = \"Python\" # char array / String\n",
    "print(word[0])\n",
    "print(word[-1])\n",
    "print(word[-3])\n",
    "\n",
    "\n",
    "# Java substring(0,3)\n",
    "print(word[:3])\n",
    "print(word[4:])\n",
    "print(word[2:3])\n",
    "\n",
    "# Function\n",
    "# Java instance method\n",
    "print(word.lower())\n",
    "print(word.upper())\n",
    "\n",
    "print(word.replace('y', 'x'))"
   ]
  },
  {
   "cell_type": "code",
   "execution_count": 19,
   "id": "7f2041ea",
   "metadata": {},
   "outputs": [
    {
     "name": "stdout",
     "output_type": "stream",
     "text": [
      "<class 'list'>\n",
      "['apple', ' orange', ' lemon']\n",
      "apple, orange, lemon\n"
     ]
    }
   ],
   "source": [
    "csv_row = \"apple, orange, lemon\"\n",
    "result = csv_row.split(\",\")\n",
    "print(type(result)) #list\n",
    "print(result)\n",
    "\n",
    "new_csv_row = \",\".join(result)\n",
    "print(new_csv_row)"
   ]
  },
  {
   "cell_type": "code",
   "execution_count": 27,
   "id": "c4bb5f51",
   "metadata": {},
   "outputs": [
    {
     "name": "stdout",
     "output_type": "stream",
     "text": [
      "2\n",
      "False\n",
      "True\n",
      "True\n",
      "False\n",
      "True\n",
      "True\n"
     ]
    }
   ],
   "source": [
    "student_name = 'Steven'\n",
    "print(student_name.count('e'))\n",
    "print(student_name.isdigit()) # False\n",
    "print(student_name.isalpha()) # True\n",
    "print(student_name.startswith('S')) # True\n",
    "print(student_name.startswith('s')) # False, case sensitive\n",
    "print(student_name.endswith('en')) # True\n",
    "\n",
    "score = '93'\n",
    "print(score.isdigit()) # True"
   ]
  },
  {
   "cell_type": "code",
   "execution_count": 23,
   "id": "4db22da6",
   "metadata": {},
   "outputs": [
    {
     "name": "stdout",
     "output_type": "stream",
     "text": [
      "The student name is Jennie, the age is 24.\n"
     ]
    }
   ],
   "source": [
    "# Java System.out.println('hello' + name)\n",
    "name = 'Jennie'\n",
    "age = 24\n",
    "print(f\"The student name is {name}, the age is {age}.\")"
   ]
  },
  {
   "cell_type": "code",
   "execution_count": null,
   "id": "304832fd",
   "metadata": {},
   "outputs": [],
   "source": []
  }
 ],
 "metadata": {
  "kernelspec": {
   "display_name": "bootcamp-env",
   "language": "python",
   "name": "python3"
  },
  "language_info": {
   "codemirror_mode": {
    "name": "ipython",
    "version": 3
   },
   "file_extension": ".py",
   "mimetype": "text/x-python",
   "name": "python",
   "nbconvert_exporter": "python",
   "pygments_lexer": "ipython3",
   "version": "3.13.8"
  }
 },
 "nbformat": 4,
 "nbformat_minor": 5
}
