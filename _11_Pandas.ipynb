{
 "cells": [
  {
   "cell_type": "code",
   "execution_count": 43,
   "id": "f7cbfc1c",
   "metadata": {},
   "outputs": [
    {
     "name": "stdout",
     "output_type": "stream",
     "text": [
      "<class 'pandas.core.series.Series'>\n",
      "0     2\n",
      "1     8\n",
      "2    -2\n",
      "3    10\n",
      "dtype: int64\n",
      "  names  age\n",
      "0   Leo   23\n",
      "<class 'dict'>\n",
      "    names  ages\n",
      "0     Leo    23\n",
      "1   Jason    18\n",
      "2  Jennie     9\n",
      "<class 'pandas.core.frame.DataFrame'>\n"
     ]
    }
   ],
   "source": [
    "import pandas as pd\n",
    "\n",
    "series = pd.Series([2, 8 , -2, 10])\n",
    "print(type(series))\n",
    "print(series)\n",
    "\n",
    "dictionary = {\n",
    "  \"names\" : \"Leo\",\n",
    "  \"age\" : 23\n",
    "}\n",
    "\n",
    "# Convert Dictionary -> DataFrame\n",
    "df = pd.DataFrame(dictionary, index=[0])\n",
    "print(df)\n",
    "\n",
    "teams = {\n",
    "  \"names\" : ['Leo', 'Jason', 'Jennie'],\n",
    "  \"ages\" : [23, 18, 9]\n",
    "}\n",
    "print(type(teams)) # <dict>\n",
    "\n",
    "df2 = pd.DataFrame(teams)\n",
    "print(df2)\n",
    "print(type(df2)) #<DataFrame>"
   ]
  },
  {
   "cell_type": "code",
   "execution_count": null,
   "id": "88b78e1d",
   "metadata": {},
   "outputs": [
    {
     "name": "stdout",
     "output_type": "stream",
     "text": [
      "0       Leo\n",
      "1     Jason\n",
      "2    Jennie\n",
      "Name: names, dtype: object\n",
      "<class 'pandas.core.series.Series'>\n",
      "0    23\n",
      "1    18\n",
      "2     9\n",
      "Name: ages, dtype: int64\n",
      "    names  ages gender\n",
      "0     Leo    23      M\n",
      "1   Jason    18      M\n",
      "2  Jennie     9      F\n"
     ]
    }
   ],
   "source": [
    "import pandas as pd\n",
    "\n",
    "\n",
    "print(df2['names'])\n",
    "names_series = df2['names']\n",
    "print(type(names_series)) # <Series>\n",
    "print(df2['ages'])\n",
    "\n",
    "df2['gender'] = pd.Series(['M', 'M' , 'F'])\n",
    "print(df2)"
   ]
  },
  {
   "cell_type": "code",
   "execution_count": 45,
   "id": "5b715242",
   "metadata": {},
   "outputs": [
    {
     "name": "stdout",
     "output_type": "stream",
     "text": [
      "<class 'pandas.core.frame.DataFrame'>\n",
      "RangeIndex: 3 entries, 0 to 2\n",
      "Data columns (total 3 columns):\n",
      " #   Column  Non-Null Count  Dtype \n",
      "---  ------  --------------  ----- \n",
      " 0   names   3 non-null      object\n",
      " 1   ages    3 non-null      int64 \n",
      " 2   gender  3 non-null      object\n",
      "dtypes: int64(1), object(2)\n",
      "memory usage: 204.0+ bytes\n",
      "None\n",
      "            ages\n",
      "count   3.000000\n",
      "mean   16.666667\n",
      "std     7.094599\n",
      "min     9.000000\n",
      "25%    13.500000\n",
      "50%    18.000000\n",
      "75%    20.500000\n",
      "max    23.000000\n",
      "    names  ages gender\n",
      "0     Leo    23      M\n",
      "1   Jason    18      M\n",
      "2  Jennie     9      F\n"
     ]
    }
   ],
   "source": [
    "print(df2.info())\n",
    "print(df2.describe())\n",
    "print(df2.head()) # first 5 rows"
   ]
  },
  {
   "cell_type": "code",
   "execution_count": 46,
   "id": "1d6310f9",
   "metadata": {},
   "outputs": [
    {
     "name": "stdout",
     "output_type": "stream",
     "text": [
      "    names  ages gender\n",
      "1   Jason    18      M\n",
      "2  Jennie     9      F\n",
      "0    False\n",
      "1     True\n",
      "2     True\n",
      "Name: ages, dtype: bool\n",
      "    names  ages gender\n",
      "0     Leo    23      M\n",
      "1   Jason    18      M\n",
      "2  Jennie     9      F\n",
      "   names  ages gender\n",
      "1  Jason    18      M\n",
      "    names  ages gender\n",
      "2  Jennie     9      F\n"
     ]
    }
   ],
   "source": [
    "# Filtering\n",
    "print(df2.loc[df2[\"ages\"] < 20])\n",
    "print(df2[\"ages\"] < 20) # only show true/false 同無名\n",
    "\n",
    "\n",
    "# contains\n",
    "df2.loc[df2['names'].str.contains(\"J\")]\n",
    "\n",
    "# Python (if-else -> and or)\n",
    "# Dataframe (& |)\n",
    "print(df2.loc[df2['names'].str.contains(\"J\") | (df2['ages'] > 20)])\n",
    "print(df2.loc[df2['names'].str.contains(\"n\") & (df2['ages'] > 10)])\n",
    "\n",
    "print(df2.loc[df2['names'] == 'Jennie'])\n"
   ]
  },
  {
   "cell_type": "code",
   "execution_count": null,
   "id": "7c8ea9bc",
   "metadata": {},
   "outputs": [
    {
     "name": "stdout",
     "output_type": "stream",
     "text": [
      "<class 'pandas.core.frame.DataFrame'>\n",
      "   PassengerId  Survived  Pclass  \\\n",
      "0            1         0       3   \n",
      "1            2         1       1   \n",
      "2            3         1       3   \n",
      "3            4         1       1   \n",
      "4            5         0       3   \n",
      "\n",
      "                                                Name     Sex   Age  SibSp  \\\n",
      "0                            Braund, Mr. Owen Harris    male  22.0      1   \n",
      "1  Cumings, Mrs. John Bradley (Florence Briggs Th...  female  38.0      1   \n",
      "2                             Heikkinen, Miss. Laina  female  26.0      0   \n",
      "3       Futrelle, Mrs. Jacques Heath (Lily May Peel)  female  35.0      1   \n",
      "4                           Allen, Mr. William Henry    male  35.0      0   \n",
      "\n",
      "   Parch            Ticket     Fare Cabin Embarked  \n",
      "0      0         A/5 21171   7.2500   NaN        S  \n",
      "1      0          PC 17599  71.2833   C85        C  \n",
      "2      0  STON/O2. 3101282   7.9250   NaN        S  \n",
      "3      0            113803  53.1000  C123        S  \n",
      "4      0            373450   8.0500   NaN        S  \n",
      "     PassengerId  Survived  Pclass  \\\n",
      "3              4         1       1   \n",
      "879          880         1       1   \n",
      "\n",
      "                                              Name     Sex   Age  SibSp  \\\n",
      "3     Futrelle, Mrs. Jacques Heath (Lily May Peel)  female  35.0      1   \n",
      "879  Potter, Mrs. Thomas Jr (Lily Alexenia Wilson)  female  56.0      0   \n",
      "\n",
      "     Parch  Ticket     Fare Cabin Embarked  \n",
      "3        0  113803  53.1000  C123        S  \n",
      "879      1   11767  83.1583   C50        C  \n"
     ]
    }
   ],
   "source": [
    "# call API\n",
    "import pandas as pd\n",
    "\n",
    "url = \"https://raw.githubusercontent.com/datasciencedojo/datasets/master/titanic.csv\"\n",
    "df = pd.read_csv(url) #return dataframe\n",
    "print(type(df))\n",
    "print(df.head())\n",
    "\n",
    "df_female_30 = df.loc[(df['Sex'] == 'female') & (df['Age'] > 30) & (df['Name'].str.contains('Lily'))]\n",
    "\n",
    "print(df_female_30)\n",
    "\n"
   ]
  },
  {
   "cell_type": "code",
   "execution_count": null,
   "id": "6331818c",
   "metadata": {},
   "outputs": [
    {
     "name": "stdout",
     "output_type": "stream",
     "text": [
      "<class 'pandas.core.frame.DataFrame'>\n",
      "['Kamren', 'Elwyn.Skiles']\n"
     ]
    }
   ],
   "source": [
    "import pandas as pd\n",
    "url = \"https://jsonplaceholder.typicode.com/users\"\n",
    "\n",
    "# lambda (map)\n",
    "# city = Rescoeview or Howemouth\n",
    "\n",
    "# -> username (list of string)\n",
    "\n",
    "df_users = pd.read_json(url)\n",
    "print(type(df_users)) # DataFrame\n",
    "\n",
    "filtered_usernames = [x['username'] for x in df_users.to_dict('records') \n",
    "                      if x['address']['city'] in ['Roscoeview', 'Howemouth']]\n",
    "print(filtered_usernames)\n"
   ]
  },
  {
   "cell_type": "code",
   "execution_count": null,
   "id": "a0abd8a6",
   "metadata": {},
   "outputs": [
    {
     "name": "stdout",
     "output_type": "stream",
     "text": [
      "29.69911764705882\n",
      "80.0\n",
      "0.42\n",
      "Survived\n",
      "0    30.626179\n",
      "1    28.343690\n",
      "Name: Age, dtype: float64\n",
      "<class 'pandas.core.series.Series'>\n"
     ]
    }
   ],
   "source": [
    "url = \"https://raw.githubusercontent.com/datasciencedojo/datasets/master/titanic.csv\"\n",
    "df3 = pd.read_csv(url)\n",
    "\n",
    "print(df3[\"Age\"].mean())\n",
    "print(df3[\"Age\"].max())\n",
    "print(df3[\"Age\"].min())\n",
    "\n",
    "result = df3.groupby(\"Survived\")['Age'].mean()\n",
    "print(result)\n",
    "print(type(result)) #pandas.core.series.Series"
   ]
  },
  {
   "cell_type": "code",
   "execution_count": 38,
   "id": "e67bb4f1",
   "metadata": {},
   "outputs": [
    {
     "name": "stdout",
     "output_type": "stream",
     "text": [
      "True\n",
      "False\n",
      "Index(['Age', 'Cabin', 'Embarked'], dtype='object')\n",
      "891\n",
      "714\n",
      "183\n"
     ]
    }
   ],
   "source": [
    "print(df3['Age'].isnull().any())\n",
    "print(df3['Name'].isnull().any())\n",
    "\n",
    "print(df3.columns[df3.isnull().any()])\n",
    "\n",
    "# ETL (extract transform load)\n",
    "# clear those person without age\n",
    "\n",
    "df_drop_na = df3.dropna(subset=['Age'])\n",
    "print(len(df3))\n",
    "print(len(df_drop_na))\n",
    "df_drop_na = df_drop_na.dropna(subset=['Cabin'])\n",
    "df_drop_na = df_drop_na.dropna(subset=['Embarked'])\n",
    "print(len(df_drop_na))"
   ]
  },
  {
   "cell_type": "code",
   "execution_count": null,
   "id": "1d9581fa",
   "metadata": {},
   "outputs": [
    {
     "name": "stdout",
     "output_type": "stream",
     "text": [
      "Index([], dtype='object')\n",
      "891\n",
      "891\n"
     ]
    }
   ],
   "source": [
    "df_for_refill = df3.copy()\n",
    "df_for_refill[\"Age\"] = df_for_refill['Age'].fillna(\"N/A\")\n",
    "df_for_refill[\"Cabin\"] = df_for_refill['Cabin'].fillna(\"N/A\")\n",
    "df_for_refill[\"Embarked\"] = df_for_refill['Embarked'].fillna(\"N/A\")\n",
    "\n",
    "print(df_for_refill.columns[df_for_refill.isnull().any()])\n",
    "print(len(df_for_refill))\n",
    "print(len(df3))"
   ]
  },
  {
   "cell_type": "code",
   "execution_count": 44,
   "id": "5dfaaa43",
   "metadata": {},
   "outputs": [],
   "source": [
    "# dataframe to csv\n",
    "df_for_refill.to_csv('titanic_after_refull.csv')"
   ]
  },
  {
   "cell_type": "code",
   "execution_count": null,
   "id": "35a3c28f",
   "metadata": {},
   "outputs": [],
   "source": []
  }
 ],
 "metadata": {
  "kernelspec": {
   "display_name": "bootcamp-env",
   "language": "python",
   "name": "python3"
  },
  "language_info": {
   "codemirror_mode": {
    "name": "ipython",
    "version": 3
   },
   "file_extension": ".py",
   "mimetype": "text/x-python",
   "name": "python",
   "nbconvert_exporter": "python",
   "pygments_lexer": "ipython3",
   "version": "3.13.8"
  }
 },
 "nbformat": 4,
 "nbformat_minor": 5
}
