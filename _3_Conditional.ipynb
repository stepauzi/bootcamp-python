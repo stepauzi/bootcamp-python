{
 "cells": [
  {
   "cell_type": "code",
   "execution_count": 3,
   "id": "5ec6608d",
   "metadata": {},
   "outputs": [
    {
     "name": "stdout",
     "output_type": "stream",
     "text": [
      "hello\n"
     ]
    }
   ],
   "source": [
    "x = 10\n",
    "if x > 9:\n",
    "  print('hello')\n",
    "else:\n",
    "  print('goodbye')\n",
    "\n",
    "\n",
    "# Python doesn't have explicit code block {}, we have to use space to indicate the code block \n",
    "# if x > 9:\n",
    "# print('hello)\n",
    "# else:\n",
    "# print('goodbye')"
   ]
  },
  {
   "cell_type": "code",
   "execution_count": 7,
   "id": "358bec71",
   "metadata": {},
   "outputs": [
    {
     "name": "stdout",
     "output_type": "stream",
     "text": [
      "Grade=B\n"
     ]
    }
   ],
   "source": [
    "score = 89\n",
    "if score >= 90:\n",
    "  grade = 'A'\n",
    "elif score >= 80:\n",
    "  grade = 'B'\n",
    "elif score >= 70:\n",
    "  grade = 'C'\n",
    "else:\n",
    "  grade = 'F'\n",
    "\n",
    "print(f\"Grade={grade}\")"
   ]
  },
  {
   "cell_type": "code",
   "execution_count": 8,
   "id": "fd50e049",
   "metadata": {},
   "outputs": [
    {
     "name": "stdout",
     "output_type": "stream",
     "text": [
      "hello\n",
      "hello\n",
      "goodbye\n"
     ]
    }
   ],
   "source": [
    "# AND OR\n",
    "# Java && ||\n",
    "# Python and or\n",
    "\n",
    "x = 10\n",
    "if ( x > 4 and x < 12):\n",
    "  print('hello')\n",
    "\n",
    "if ( 4 < x < 12):\n",
    "  print('hello')\n",
    "\n",
    "if ( x > 10 or x < 20):\n",
    "  print('goodbye')"
   ]
  },
  {
   "cell_type": "code",
   "execution_count": 9,
   "id": "a02ed761",
   "metadata": {},
   "outputs": [
    {
     "name": "stdout",
     "output_type": "stream",
     "text": [
      "2\n"
     ]
    }
   ],
   "source": [
    "# age = 65, fee = 2, otherwise fee = 10\n",
    "age = 66\n",
    "fee = 2 if age >= 65 else 10\n",
    "print(fee)"
   ]
  },
  {
   "cell_type": "code",
   "execution_count": 10,
   "id": "9defa05e",
   "metadata": {},
   "outputs": [],
   "source": [
    "# Java (not -> !)"
   ]
  },
  {
   "cell_type": "code",
   "execution_count": 11,
   "id": "8209eae3",
   "metadata": {},
   "outputs": [
    {
     "name": "stdout",
     "output_type": "stream",
     "text": [
      "Female\n"
     ]
    }
   ],
   "source": [
    "is_male = False\n",
    "if not is_male:\n",
    "  print(\"Female\")\n",
    "else:\n",
    "  print(\"Male\")"
   ]
  },
  {
   "cell_type": "code",
   "execution_count": 14,
   "id": "d98a3468",
   "metadata": {},
   "outputs": [
    {
     "name": "stdout",
     "output_type": "stream",
     "text": [
      "Login success.\n",
      "False\n"
     ]
    }
   ],
   "source": [
    "# Java equals()\n",
    "\n",
    "password = \"admin1234\"\n",
    "entered_password = \"admin1234\"\n",
    "\n",
    "if password == entered_password:\n",
    "  print('Login success.')\n",
    "else:\n",
    "  print('Login Fail.')\n",
    "\n",
    "print(password != entered_password) #False"
   ]
  },
  {
   "cell_type": "code",
   "execution_count": 17,
   "id": "31359824",
   "metadata": {},
   "outputs": [
    {
     "name": "stdout",
     "output_type": "stream",
     "text": [
      "it is odd.\n"
     ]
    }
   ],
   "source": [
    "number = 9\n",
    "if number % 2 == 1:\n",
    "  print('it is odd.')\n",
    "else:\n",
    "  print('it is even')\n"
   ]
  },
  {
   "cell_type": "code",
   "execution_count": 20,
   "id": "65a6bda5",
   "metadata": {},
   "outputs": [
    {
     "name": "stdout",
     "output_type": "stream",
     "text": [
      "He is elderly\n",
      "Mon\n"
     ]
    }
   ],
   "source": [
    "# Java: switch\n",
    "# Python: > 3.10 (match)\n",
    "\n",
    "# Disadvantage: No range checking\n",
    "\n",
    "is_elderly = True\n",
    "\n",
    "match is_elderly:\n",
    "  case True:\n",
    "    print(\"He is elderly\")\n",
    "  case False:\n",
    "    print(\"He is not elderly\")\n",
    "\n",
    "weekday = 'Monday'\n",
    "match weekday:\n",
    "  case 'Monday':\n",
    "    print('Mon')\n",
    "  case 'Tuesday':\n",
    "    print('Tue')\n",
    "  case 'Wednesday':\n",
    "    print('Wed')\n",
    "  case 'Thursday':\n",
    "    print('Thu')\n",
    "  case 'Friday':\n",
    "    print('Fri')\n",
    "  case _:\n",
    "    print('Not Found.')\n",
    "  "
   ]
  },
  {
   "cell_type": "code",
   "execution_count": null,
   "id": "b6233614",
   "metadata": {},
   "outputs": [],
   "source": []
  }
 ],
 "metadata": {
  "kernelspec": {
   "display_name": "Python 3",
   "language": "python",
   "name": "python3"
  },
  "language_info": {
   "codemirror_mode": {
    "name": "ipython",
    "version": 3
   },
   "file_extension": ".py",
   "mimetype": "text/x-python",
   "name": "python",
   "nbconvert_exporter": "python",
   "pygments_lexer": "ipython3",
   "version": "3.13.8"
  }
 },
 "nbformat": 4,
 "nbformat_minor": 5
}
