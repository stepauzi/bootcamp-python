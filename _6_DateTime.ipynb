{
 "cells": [
  {
   "cell_type": "code",
   "execution_count": null,
   "id": "f2194497",
   "metadata": {},
   "outputs": [],
   "source": [
    "from datetime import datetime, date, timedelta\n",
    "\n",
    "print(datetime.now())\n",
    "print(date.today())\n",
    "\n",
    "birthday = date(2020, 11, 30)\n",
    "print(birthday)\n",
    "\n",
    "new_birthday = birthday + timedelta(days=60)\n",
    "print(new_birthday)"
   ]
  },
  {
   "cell_type": "code",
   "execution_count": null,
   "id": "166ab98b",
   "metadata": {},
   "outputs": [],
   "source": [
    "from dateutil.relativedelta import relativedelta\n",
    "\n",
    "probation_end_date = date.today() + relativedelta(months=3)\n",
    "print(probation_end_date)\n",
    "\n",
    "a_year_later = date.today() + relativedelta(years=1)\n",
    "print(a_year_later)\n",
    "\n",
    "hundred_day_later = date.today() + relativedelta(days=100)\n",
    "print(hundred_day_later)"
   ]
  },
  {
   "cell_type": "code",
   "execution_count": null,
   "id": "96023f27",
   "metadata": {},
   "outputs": [],
   "source": [
    "formatted_datetime = datetime.now().strftime(\"%Y-%m-%d %H:%M:%S\")\n",
    "print(formatted_datetime)\n",
    "print(type(formatted_datetime))\n",
    "\n",
    "str_datetime= \"2025/12/31 23:59:59\"\n",
    "parsed_datetime = datetime.strptime(str_datetime, \"%Y/%m/%d %H:%M:%S\")\n",
    "print(parsed_datetime)\n",
    "print(type(parsed_datetime))"
   ]
  }
 ],
 "metadata": {
  "kernelspec": {
   "display_name": "bootcamp-env",
   "language": "python",
   "name": "python3"
  },
  "language_info": {
   "name": "python",
   "version": "3.13.8"
  }
 },
 "nbformat": 4,
 "nbformat_minor": 5
}
