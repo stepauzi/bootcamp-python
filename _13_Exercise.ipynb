{
 "cells": [
  {
   "cell_type": "code",
   "execution_count": 1,
   "id": "464fe10a",
   "metadata": {},
   "outputs": [
    {
     "name": "stdout",
     "output_type": "stream",
     "text": [
      "<class 'list'>\n"
     ]
    }
   ],
   "source": [
    "from webbrowser import Mozilla\n",
    "import requests\n",
    "\n",
    "url = \"https://jsonplaceholder.typicode.com/posts\"\n",
    "\n",
    "headers = {\n",
    "  \"User-Agent\" : \"Mozilla/5.0\"\n",
    "}\n",
    "\n",
    "response = requests.get(url, headers=headers)\n",
    "data = response.json()\n",
    "print(type(data))"
   ]
  },
  {
   "cell_type": "code",
   "execution_count": null,
   "id": "dc22ab64",
   "metadata": {},
   "outputs": [],
   "source": [
    "# call yahoo finance API\n",
    "\n",
    "url = \"https://query1.finance.yahoo.com/v8/finance/chart/TSLA?period1=1735660800&period2=1760544000&interval=1d&events=history\"\n",
    "\n",
    "response = requests.get(url, headers=headers)\n",
    "data = response.json()\n",
    "\n",
    "timestamps = data['chart']['result'][0]['timestamp']\n",
    "# Transform OHLCV (Open, High, Low, Close, Volume)\n",
    "\n",
    "#Database Table (Symbol, Date, Open, Hign, Low, Close, Volume)"
   ]
  },
  {
   "cell_type": "code",
   "execution_count": null,
   "id": "402ea594",
   "metadata": {},
   "outputs": [],
   "source": []
  }
 ],
 "metadata": {
  "kernelspec": {
   "display_name": "bootcamp-env",
   "language": "python",
   "name": "python3"
  },
  "language_info": {
   "codemirror_mode": {
    "name": "ipython",
    "version": 3
   },
   "file_extension": ".py",
   "mimetype": "text/x-python",
   "name": "python",
   "nbconvert_exporter": "python",
   "pygments_lexer": "ipython3",
   "version": "3.13.8"
  }
 },
 "nbformat": 4,
 "nbformat_minor": 5
}
