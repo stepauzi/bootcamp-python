{
 "cells": [
  {
   "cell_type": "code",
   "execution_count": 13,
   "id": "9b9ac35d",
   "metadata": {},
   "outputs": [
    {
     "name": "stdout",
     "output_type": "stream",
     "text": [
      "[1 2 3]\n",
      "<class 'numpy.ndarray'>\n",
      "[['1' '3']\n",
      " ['100' '101']\n",
      " ['John' 'Peter']\n",
      " ['True' '20']]\n",
      "(4, 2)\n",
      "[2 3 4]\n",
      "[1 4 9]\n",
      "[3 6 9]\n",
      "[1, 2, 3, 1, 2, 3]\n"
     ]
    }
   ],
   "source": [
    "import numpy as np\n",
    "\n",
    "arr = np.array([1, 2, 3])\n",
    "print(arr)\n",
    "print(type(arr))\n",
    "\n",
    "arr2d = np.array([[1, 3], [100, 101], [\"John\", \"Peter\"], [True, 20]])\n",
    "print(arr2d)\n",
    "print(arr2d.shape)\n",
    "\n",
    "print(arr + 1) #[2 3 4]\n",
    "print(arr ** 2) #[1 4 9]\n",
    "print(arr * 3) #[3 6 9]\n",
    "\n",
    "\n",
    "# list\n",
    "list = [1, 2, 3]\n",
    "print(list * 2) #[1, 2, 3, 1, 2, 3]"
   ]
  },
  {
   "cell_type": "code",
   "execution_count": 15,
   "id": "2e6adfba",
   "metadata": {},
   "outputs": [
    {
     "name": "stdout",
     "output_type": "stream",
     "text": [
      "51.5\n",
      "50.0\n",
      "6\n",
      "100\n",
      "39.455671328720285\n",
      "[[100  20]\n",
      " [ 80   6]]\n"
     ]
    }
   ],
   "source": [
    "arr2 = np.array([100, 20, 80, 6])\n",
    "print(np.mean(arr2)) # 51.5\n",
    "print(np.median(arr2))\n",
    "print(np.min(arr2))\n",
    "print(np.max(arr2))\n",
    "print(np.std(arr2))\n",
    "\n",
    "arr2_reshaped = arr2.reshape(2, 2)\n",
    "print(arr2_reshaped)"
   ]
  },
  {
   "cell_type": "code",
   "execution_count": null,
   "id": "a6f7d531",
   "metadata": {},
   "outputs": [],
   "source": []
  },
  {
   "cell_type": "code",
   "execution_count": null,
   "id": "cba5408f",
   "metadata": {},
   "outputs": [],
   "source": []
  },
  {
   "cell_type": "code",
   "execution_count": null,
   "id": "bb938f71",
   "metadata": {},
   "outputs": [],
   "source": []
  }
 ],
 "metadata": {
  "kernelspec": {
   "display_name": "bootcamp-env",
   "language": "python",
   "name": "python3"
  },
  "language_info": {
   "codemirror_mode": {
    "name": "ipython",
    "version": 3
   },
   "file_extension": ".py",
   "mimetype": "text/x-python",
   "name": "python",
   "nbconvert_exporter": "python",
   "pygments_lexer": "ipython3",
   "version": "3.13.8"
  }
 },
 "nbformat": 4,
 "nbformat_minor": 5
}
