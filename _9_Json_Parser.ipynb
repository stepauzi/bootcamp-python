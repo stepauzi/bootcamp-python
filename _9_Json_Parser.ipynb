{
 "cells": [
  {
   "cell_type": "code",
   "execution_count": 43,
   "id": "175d099a",
   "metadata": {},
   "outputs": [
    {
     "name": "stdout",
     "output_type": "stream",
     "text": [
      "{'name': 'Vincent', 'age': 18}\n",
      "Vincent\n",
      "18\n",
      "{\n",
      "  \"name\": \"Vincent\",\n",
      "  \"age\": 18\n",
      "}\n"
     ]
    }
   ],
   "source": [
    "import json\n",
    "\n",
    "json_str = '{\"name\" : \"Vincent\", \"age\" : 18 }'\n",
    "dictionary1 = json.loads(json_str)\n",
    "print(dictionary1)\n",
    "print(dictionary1['name'])\n",
    "print(dictionary1['age'])\n",
    "\n",
    "json_missing_comma = '{\"name\" : \"Vincent\" \"age\" : 18 }'\n",
    "# dictionary2 = json.loads(json_missing_comma) #JSONDecodeError\n",
    "# print(dictionary2)\n",
    "\n",
    "#Dictionary -> JSON\n",
    "json_str = json.dumps(dictionary1, indent=2)\n",
    "print(json_str)"
   ]
  },
  {
   "cell_type": "code",
   "execution_count": 44,
   "id": "456fe4ba",
   "metadata": {},
   "outputs": [
    {
     "name": "stdout",
     "output_type": "stream",
     "text": [
      "<class 'dict'>\n",
      "<class 'str'>\n",
      "{\n",
      "  \"name\": \"Jacky\",\n",
      "  \"age\": 24,\n",
      "  \"phones\": [\n",
      "    \"+852 12345678\",\n",
      "    \"+852 09876543\"\n",
      "  ]\n",
      "}\n"
     ]
    }
   ],
   "source": [
    "# JSON File -> Dictionary\n",
    "with open(\"user1.json\", \"r\") as file:\n",
    "  user_dict = json.load(file) \n",
    "print(type(user_dict))\n",
    "\n",
    "user_str = json.dumps(user_dict, indent=2)\n",
    "print(type(user_str))\n",
    "print(user_str)\n",
    "\n",
    "\n",
    "# String -> Dictionary -> Write JSON \n",
    "cat_str = '{\"name\" : \"Tommy\", \"age\" : 9 }'\n",
    "cat_dictionary = json.loads(cat_str)\n",
    "with open(\"cat.json\", \"w\") as file:\n",
    "  json.dump(cat_dictionary, file, indent=2)\n",
    "\n",
    "#"
   ]
  },
  {
   "cell_type": "code",
   "execution_count": 45,
   "id": "49aa4a9a",
   "metadata": {},
   "outputs": [
    {
     "name": "stdout",
     "output_type": "stream",
     "text": [
      "<class 'list'>\n",
      "[{'name': 'Jacky', 'age': 27, 'address': {'city': 'New York', 'zip': '000123'}}, {'name': 'Mary', 'age': 10, 'address': {'city': 'New York', 'zip': '000123'}}]\n"
     ]
    }
   ],
   "source": [
    "import json\n",
    "# load json to dictionary\n",
    "\n",
    "#function/lambda -> New York\n",
    "#write persons_New_York.json\n",
    "\n",
    "with open(\"persons.json\", \"r\") as file:\n",
    "  person_list = json.load(file)\n",
    "print(type(person_list))\n",
    "\n",
    "new_york_persons = list(filter(lambda x: x[\"address\"][\"city\"] == \"New York\", person_list))\n",
    "print(new_york_persons)\n",
    "\n",
    "with open(\"persons_New_York.json\", \"w\") as file:\n",
    "  json.dump(new_york_persons, file, indent=2)"
   ]
  },
  {
   "cell_type": "code",
   "execution_count": null,
   "id": "6d9e7270",
   "metadata": {},
   "outputs": [],
   "source": []
  },
  {
   "cell_type": "code",
   "execution_count": null,
   "id": "4bb5a783",
   "metadata": {},
   "outputs": [],
   "source": []
  }
 ],
 "metadata": {
  "kernelspec": {
   "display_name": "bootcamp-env",
   "language": "python",
   "name": "python3"
  },
  "language_info": {
   "codemirror_mode": {
    "name": "ipython",
    "version": 3
   },
   "file_extension": ".py",
   "mimetype": "text/x-python",
   "name": "python",
   "nbconvert_exporter": "python",
   "pygments_lexer": "ipython3",
   "version": "3.13.8"
  }
 },
 "nbformat": 4,
 "nbformat_minor": 5
}
