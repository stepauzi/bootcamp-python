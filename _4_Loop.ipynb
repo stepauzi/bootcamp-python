{
 "cells": [
  {
   "cell_type": "code",
   "execution_count": 6,
   "id": "cd8a5c10",
   "metadata": {},
   "outputs": [
    {
     "name": "stdout",
     "output_type": "stream",
     "text": [
      "<class 'list'>\n",
      "apple\n",
      "orange\n",
      "lemon\n",
      "0\n",
      "1\n",
      "2\n",
      "3\n",
      "4\n",
      "b\n",
      "o\n",
      "o\n",
      "t\n",
      "c\n",
      "a\n",
      "m\n",
      "p\n"
     ]
    }
   ],
   "source": [
    "fruits = [\"apple\", \"orange\", \"lemon\"]\n",
    "print(type(fruits)) # list\n",
    "\n",
    "# Java for-each\n",
    "for f in fruits:\n",
    "  print(f)\n",
    "\n",
    "# for(int i = 0: i < 5; i++)\n",
    "for i in range(5):\n",
    "  print(i)\n",
    "\n",
    "for c in 'bootcamp':\n",
    "  print(c)"
   ]
  },
  {
   "cell_type": "code",
   "execution_count": 13,
   "id": "a1dbdc62",
   "metadata": {},
   "outputs": [
    {
     "name": "stdout",
     "output_type": "stream",
     "text": [
      "1\n",
      "3\n",
      "5\n",
      "7\n",
      "9\n",
      "2\n",
      "4\n",
      "6\n",
      "8\n",
      "10\n"
     ]
    }
   ],
   "source": [
    "# print odd number (1-10)\n",
    "\n",
    "for i in range(10):\n",
    "  if i % 2 == 1:\n",
    "    print(i)\n",
    "\n",
    "# Use continue, print even number (1-10)\n",
    "for i in range(11):\n",
    "  if (i == 0):\n",
    "    continue\n",
    "  elif (i % 2 == 0):\n",
    "    print(i)"
   ]
  },
  {
   "cell_type": "code",
   "execution_count": null,
   "id": "c70c0d39",
   "metadata": {},
   "outputs": [],
   "source": []
  }
 ],
 "metadata": {
  "kernelspec": {
   "display_name": "Python 3",
   "language": "python",
   "name": "python3"
  },
  "language_info": {
   "codemirror_mode": {
    "name": "ipython",
    "version": 3
   },
   "file_extension": ".py",
   "mimetype": "text/x-python",
   "name": "python",
   "nbconvert_exporter": "python",
   "pygments_lexer": "ipython3",
   "version": "3.13.8"
  }
 },
 "nbformat": 4,
 "nbformat_minor": 5
}
