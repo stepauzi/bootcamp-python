{
 "cells": [
  {
   "cell_type": "code",
   "execution_count": 6,
   "id": "cd8a5c10",
   "metadata": {},
   "outputs": [
    {
     "name": "stdout",
     "output_type": "stream",
     "text": [
      "<class 'list'>\n",
      "apple\n",
      "orange\n",
      "lemon\n",
      "0\n",
      "1\n",
      "2\n",
      "3\n",
      "4\n",
      "b\n",
      "o\n",
      "o\n",
      "t\n",
      "c\n",
      "a\n",
      "m\n",
      "p\n"
     ]
    }
   ],
   "source": [
    "fruits = [\"apple\", \"orange\", \"lemon\"]\n",
    "print(type(fruits)) # list\n",
    "\n",
    "# Java for-each\n",
    "for f in fruits:\n",
    "  print(f)\n",
    "\n",
    "# for(int i = 0: i < 5; i++)\n",
    "for i in range(5):\n",
    "  print(i)\n",
    "\n",
    "for c in 'bootcamp':\n",
    "  print(c)"
   ]
  },
  {
   "cell_type": "code",
   "execution_count": 22,
   "id": "a1dbdc62",
   "metadata": {},
   "outputs": [
    {
     "name": "stdout",
     "output_type": "stream",
     "text": [
      "1\n",
      "3\n",
      "5\n",
      "7\n",
      "9\n",
      "2\n",
      "4\n",
      "6\n",
      "8\n",
      "10\n"
     ]
    }
   ],
   "source": [
    "# print odd number (1-10)\n",
    "\n",
    "for i in range(10):\n",
    "  if i % 2 == 1:\n",
    "    print(i)\n",
    "\n",
    "# Use continue, print even number (1-10)\n",
    "for i in range(11):\n",
    "  if i % 2 == 1 or i == 0:\n",
    "    continue\n",
    "  print(i)"
   ]
  },
  {
   "cell_type": "code",
   "execution_count": 24,
   "id": "c70c0d39",
   "metadata": {},
   "outputs": [
    {
     "name": "stdout",
     "output_type": "stream",
     "text": [
      "True\n",
      "True\n"
     ]
    }
   ],
   "source": [
    "word = 'Hello World!!!'\n",
    "# Searching: does 'r' character exists\n",
    "# True/False\n",
    "have_r = False\n",
    "for i in word:\n",
    "  if i == 'r':\n",
    "    have_r = True\n",
    "    break\n",
    "\n",
    "print(have_r)\n",
    "print(\"r\" in word) #True\n",
    "\n"
   ]
  },
  {
   "cell_type": "code",
   "execution_count": null,
   "id": "b5f0f67f",
   "metadata": {},
   "outputs": [
    {
     "name": "stdout",
     "output_type": "stream",
     "text": [
      "hello\n",
      "hello\n",
      "hello\n",
      "hello\n",
      "hello\n",
      "John\n",
      "Steven\n",
      "Tommy\n",
      "Steven is found.\n"
     ]
    }
   ],
   "source": [
    "# while loop\n",
    "count = 0\n",
    "while count < 5:\n",
    "  print('hello')\n",
    "  count += 1\n",
    "\n",
    "names = ['John', 'Steven', 'Tommy']\n",
    "for i in range(len(names)):\n",
    "  print(names[i])\n",
    "\n",
    "# while (not is_steven_exist):\n",
    "is_steven_found = False\n",
    "idx = 0\n",
    "while (not is_steven_found):\n",
    "  if(names[idx]) == 'Steven':\n",
    "    is_steven_found = True\n",
    "    break\n",
    "  idx += 1\n",
    "\n",
    "if is_steven_found:\n",
    "  print(\"Steven is found.\")\n"
   ]
  },
  {
   "cell_type": "code",
   "execution_count": 4,
   "id": "d6d49615",
   "metadata": {},
   "outputs": [
    {
     "name": "stdout",
     "output_type": "stream",
     "text": [
      "12\n",
      "1\n",
      "26\n",
      "4\n",
      "3\n",
      "0\n",
      "Average = 6.5\n"
     ]
    }
   ],
   "source": [
    "# max, min, sum\n",
    "numbers = [1, 4, 9, 12]\n",
    "\n",
    "print(max(numbers))\n",
    "print(min(numbers))\n",
    "print(sum(numbers))\n",
    "print(len(numbers))\n",
    "\n",
    "print(numbers.index(max(numbers)))\n",
    "print(numbers.index(min(numbers)))\n",
    "\n",
    "print(f\"Average = {sum(numbers) / len(numbers)}\")"
   ]
  },
  {
   "cell_type": "code",
   "execution_count": 1,
   "id": "e92bab13",
   "metadata": {},
   "outputs": [
    {
     "name": "stdout",
     "output_type": "stream",
     "text": [
      "*\n",
      "**\n",
      "***\n",
      "****\n"
     ]
    }
   ],
   "source": [
    "for i in range(1, 5):\n",
    "  print('*' * i)"
   ]
  },
  {
   "cell_type": "code",
   "execution_count": 3,
   "id": "a31d9ed2",
   "metadata": {},
   "outputs": [
    {
     "name": "stdout",
     "output_type": "stream",
     "text": [
      "3.14\n",
      "3.14\n",
      "3.15\n",
      "0.3\n"
     ]
    }
   ],
   "source": [
    "pi = 3.14159\n",
    "print(round(pi, 2))\n",
    "\n",
    "print(round(3.144, 2))\n",
    "print(round(3.145, 2))\n",
    "\n",
    "#floating point issue\n",
    "print(round(0.1+0.2, 2))"
   ]
  },
  {
   "cell_type": "code",
   "execution_count": null,
   "id": "afc8996d",
   "metadata": {},
   "outputs": [],
   "source": []
  }
 ],
 "metadata": {
  "kernelspec": {
   "display_name": "bootcamp-env",
   "language": "python",
   "name": "python3"
  },
  "language_info": {
   "codemirror_mode": {
    "name": "ipython",
    "version": 3
   },
   "file_extension": ".py",
   "mimetype": "text/x-python",
   "name": "python",
   "nbconvert_exporter": "python",
   "pygments_lexer": "ipython3",
   "version": "3.13.8"
  }
 },
 "nbformat": 4,
 "nbformat_minor": 5
}
