{
 "cells": [
  {
   "cell_type": "code",
   "execution_count": null,
   "id": "23ebab3d",
   "metadata": {},
   "outputs": [],
   "source": [
    "import math\n",
    "\n",
    "print(math.sqrt(9)) #3.0\n",
    "print(math.pow(3,4)) #81.0\n",
    "print(math.ceil(3.3)) \n",
    "print(math.floor(3.9))\n",
    "print(math.pi)\n",
    "\n",
    "radius = 3.5\n",
    "circle_area = radius ** 2 * math.pi\n",
    "print(circle_area)"
   ]
  },
  {
   "cell_type": "code",
   "execution_count": null,
   "id": "e73d1800",
   "metadata": {},
   "outputs": [],
   "source": [
    "import statistics\n",
    "\n",
    "numbers = [20, 50, 70, 30, 10, 99, 5, 99]\n",
    "print(statistics.median(numbers))\n",
    "print(statistics.mean(numbers))\n",
    "print(statistics.mode(numbers))\n",
    "print(statistics.stdev(numbers))"
   ]
  },
  {
   "cell_type": "code",
   "execution_count": null,
   "id": "dd8a07b8",
   "metadata": {},
   "outputs": [],
   "source": [
    "no_of_student = 38\n",
    "group_size = 5\n",
    "\n",
    "print(no_of_student // group_size)\n",
    "print(math.floor(no_of_student / group_size))"
   ]
  },
  {
   "cell_type": "code",
   "execution_count": null,
   "id": "7f251ae6",
   "metadata": {},
   "outputs": [],
   "source": [
    "from decimal import Decimal\n",
    "\n",
    "print(Decimal(str(0.1)) + Decimal(str(0.2)))"
   ]
  },
  {
   "cell_type": "code",
   "execution_count": null,
   "id": "52b8b629",
   "metadata": {},
   "outputs": [],
   "source": []
  }
 ],
 "metadata": {
  "kernelspec": {
   "display_name": "Python 3",
   "language": "python",
   "name": "python3"
  },
  "language_info": {
   "name": "python",
   "version": "3.13.8"
  }
 },
 "nbformat": 4,
 "nbformat_minor": 5
}
