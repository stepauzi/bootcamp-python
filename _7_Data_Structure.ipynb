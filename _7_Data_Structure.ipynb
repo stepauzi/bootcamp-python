{
 "cells": [
  {
   "cell_type": "code",
   "execution_count": null,
   "id": "7d5e3885",
   "metadata": {},
   "outputs": [],
   "source": [
    "# List\n",
    "names = [\"John\", \"Steven\", \"John\", \"Jennie\", \"Lucas\"]\n",
    "names.append(\"Leo\")\n",
    "names.remove(\"John\")\n",
    "print(names)\n",
    "\n",
    "names.insert(2, \"Peter\")\n",
    "print(names)\n",
    "\n",
    "print(names[:4])\n",
    "\n",
    "names.sort()\n",
    "print(names)\n",
    "\n",
    "pop_result = names.pop(1)\n",
    "print(pop_result)\n",
    "print(names)\n",
    "\n",
    "names.clear()\n",
    "print(names)\n",
    "\n",
    "print(len(names))"
   ]
  },
  {
   "cell_type": "code",
   "execution_count": null,
   "id": "216f0016",
   "metadata": {},
   "outputs": [],
   "source": [
    "list1 = [\"apple\", \"orange\"]\n",
    "list2 = [3, -4, 100]\n",
    "list3 = list1 + list2\n",
    "print(list3)\n",
    "\n",
    "for e in list3:\n",
    "  print(e)"
   ]
  },
  {
   "cell_type": "code",
   "execution_count": null,
   "id": "dfcbcb49",
   "metadata": {},
   "outputs": [],
   "source": [
    "# set\n",
    "ages = {2, 4, 9, -3}\n",
    "print(type(ages))\n",
    "\n",
    "ages.add(10)\n",
    "print(ages)\n",
    "\n",
    "ages.remove(4)\n",
    "print(ages)\n",
    "\n",
    "marksix = {9, 41, 4, 5, 40, 32}\n",
    "ages.update(marksix) #combine and remove duplicate\n",
    "print(ages)\n",
    "\n",
    "set1 = {9, 4, 8}\n",
    "set2 = {10, 4, 9, 0}\n",
    "print(set1.intersection(set2)) #only show duplicate\n",
    "print(set1)\n",
    "print(set2)"
   ]
  },
  {
   "cell_type": "code",
   "execution_count": 1,
   "id": "b5eee7b5",
   "metadata": {},
   "outputs": [
    {
     "name": "stdout",
     "output_type": "stream",
     "text": [
      "<class 'dict'>\n",
      "23\n",
      "1.76\n",
      "John\n",
      "key: name, value:John\n",
      "dict_keys(['name', 'age', 'height'])\n",
      "dict_values(['John', 23, 1.76])\n",
      "key: age, value:23\n",
      "dict_keys(['name', 'age', 'height'])\n",
      "dict_values(['John', 23, 1.76])\n",
      "key: height, value:1.76\n",
      "dict_keys(['name', 'age', 'height'])\n",
      "dict_values(['John', 23, 1.76])\n"
     ]
    }
   ],
   "source": [
    "person = {\n",
    "  \"name\" : \"John\",\n",
    "  \"age\" : 23,\n",
    "  \"height\" : 1.76\n",
    "}\n",
    "\n",
    "print(type(person))\n",
    "print(person['age'])\n",
    "print(person['height'])\n",
    "print(person['name'])\n",
    "\n",
    "for k, v in person.items():\n",
    "  print(f\"key: {k}, value:{v}\")\n",
    "\n",
    "  print(person.keys())\n",
    "  print(person.values())"
   ]
  },
  {
   "cell_type": "code",
   "execution_count": 16,
   "id": "f43a8b7e",
   "metadata": {},
   "outputs": [
    {
     "name": "stdout",
     "output_type": "stream",
     "text": [
      "20\n",
      "37\n",
      "John\n",
      "{12: 'John', 'age': 37, True: 20, 25: False}\n",
      "{12: 'John', 'age': 37, True: 'Steven', 25: False}\n",
      "{12: 'John', 'age': 37, True: 'Steven', 25: False, 'books': ['ABC', 'DEF', 'IJK'], 'phones': {9000, 1234, 2222}}\n",
      "<class 'set'>\n"
     ]
    }
   ],
   "source": [
    "student = {\n",
    "  12 : \"John\",\n",
    "  \"age\" : 37,\n",
    "  True : 20\n",
    "}\n",
    "print(student[True]) #20\n",
    "print(student['age']) #37\n",
    "print(student[12]) #John\n",
    "\n",
    "student[25] = False\n",
    "print(student)\n",
    "\n",
    "student.update({True : \"Steven\"})\n",
    "print(student)\n",
    "\n",
    "student['books'] = ['ABC', 'DEF', 'IJK']\n",
    "student['phones'] = {1234, 9000, 2222}\n",
    "print(student)\n",
    "\n",
    "print(type(student[\"phones\"]))"
   ]
  },
  {
   "cell_type": "code",
   "execution_count": 18,
   "id": "4beb63d0",
   "metadata": {},
   "outputs": [
    {
     "name": "stdout",
     "output_type": "stream",
     "text": [
      "[{'name': 'John', 'age': 30}, {'name': 'Mary', 'phone': '852 12345678'}, {'name': 'Sally', 'is_male': False}]\n"
     ]
    }
   ],
   "source": [
    "members = [\n",
    "  {\n",
    "    'name' : \"John\",\n",
    "    'age' : 30\n",
    "  },\n",
    "  {\n",
    "    \"name\" : \"Mary\",\n",
    "    \"phone\" : \"852 12345678\"\n",
    "  },\n",
    "  {\n",
    "    \"name\" : \"Sally\",\n",
    "    \"is_male\" : False\n",
    "  }\n",
    "]\n",
    "print(members)"
   ]
  },
  {
   "cell_type": "code",
   "execution_count": 22,
   "id": "7751a921",
   "metadata": {},
   "outputs": [
    {
     "name": "stdout",
     "output_type": "stream",
     "text": [
      "<class 'tuple'>\n",
      "20000\n",
      "25000\n",
      "<class 'int'>\n",
      "['ABC', 'IJK']\n"
     ]
    }
   ],
   "source": [
    "# [] List\n",
    "# {} set\n",
    "# () with : , Dictionary\n",
    "# () with , tuple\n",
    "\n",
    "salary = (20000, 25000)\n",
    "print(type(salary)) # tuple\n",
    "\n",
    "print(salary[0])\n",
    "print(salary[1])\n",
    "\n",
    "amount = (1500)\n",
    "print(type(amount)) #int\n",
    "\n",
    "elements = (True, 3, False, 40.9, ['ABC', 'IJK'])\n",
    "print(elements[4]) # ['ABC', 'IJK']"
   ]
  },
  {
   "cell_type": "code",
   "execution_count": null,
   "id": "c9348d55",
   "metadata": {},
   "outputs": [],
   "source": []
  }
 ],
 "metadata": {
  "kernelspec": {
   "display_name": "Python 3",
   "language": "python",
   "name": "python3"
  },
  "language_info": {
   "codemirror_mode": {
    "name": "ipython",
    "version": 3
   },
   "file_extension": ".py",
   "mimetype": "text/x-python",
   "name": "python",
   "nbconvert_exporter": "python",
   "pygments_lexer": "ipython3",
   "version": "3.13.8"
  }
 },
 "nbformat": 4,
 "nbformat_minor": 5
}
