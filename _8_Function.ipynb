{
 "cells": [
  {
   "cell_type": "code",
   "execution_count": 2,
   "id": "9abe90b5",
   "metadata": {},
   "outputs": [
    {
     "name": "stdout",
     "output_type": "stream",
     "text": [
      "hello\n"
     ]
    }
   ],
   "source": [
    "def hello():\n",
    "  print('hello')\n",
    "hello()"
   ]
  },
  {
   "cell_type": "code",
   "execution_count": 4,
   "id": "cda5f76e",
   "metadata": {},
   "outputs": [
    {
     "name": "stdout",
     "output_type": "stream",
     "text": [
      "11\n",
      "15\n"
     ]
    }
   ],
   "source": [
    "def sum(x, y):\n",
    "  return x + y\n",
    "\n",
    "print(sum(3,8))\n",
    "print(sum(11,4))"
   ]
  },
  {
   "cell_type": "code",
   "execution_count": 6,
   "id": "5dfb99e0",
   "metadata": {},
   "outputs": [
    {
     "name": "stdout",
     "output_type": "stream",
     "text": [
      "r1=17, r2=-1, r3=72, r4=0.8888888888888888\n"
     ]
    }
   ],
   "source": [
    "def operation(x,y):\n",
    "  return x+y, x-y, x*y, x/y\n",
    "\n",
    "r1, r2, r3, r4 = operation(8,9)\n",
    "print(f\"r1={r1}, r2={r2}, r3={r3}, r4={r4}\")"
   ]
  },
  {
   "cell_type": "code",
   "execution_count": 9,
   "id": "40fb7b49",
   "metadata": {},
   "outputs": [
    {
     "name": "stdout",
     "output_type": "stream",
     "text": [
      "max=100, min=-4, median=85.0, mean=66.5, stdev=47.7039481245176\n"
     ]
    }
   ],
   "source": [
    "import statistics\n",
    "\n",
    "numbers = [100, 90, -4, 80]\n",
    "def get_max_min(nums):\n",
    "  return max(nums), min(nums), statistics.median(nums), statistics.mean(nums),statistics.stdev(nums)\n",
    "\n",
    "max_value, min_value, median_value, mean_value, stdev_value = get_max_min(numbers)\n",
    "print(f\"max={max_value}, min={min_value}, median={median_value}, mean={mean_value}, stdev={stdev_value}\")"
   ]
  },
  {
   "cell_type": "code",
   "execution_count": null,
   "id": "e918881e",
   "metadata": {},
   "outputs": [],
   "source": []
  }
 ],
 "metadata": {
  "kernelspec": {
   "display_name": "Python 3",
   "language": "python",
   "name": "python3"
  },
  "language_info": {
   "codemirror_mode": {
    "name": "ipython",
    "version": 3
   },
   "file_extension": ".py",
   "mimetype": "text/x-python",
   "name": "python",
   "nbconvert_exporter": "python",
   "pygments_lexer": "ipython3",
   "version": "3.13.8"
  }
 },
 "nbformat": 4,
 "nbformat_minor": 5
}
