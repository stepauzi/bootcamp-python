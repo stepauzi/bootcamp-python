{
 "cells": [
  {
   "cell_type": "code",
   "execution_count": null,
   "id": "78d81934",
   "metadata": {},
   "outputs": [
    {
     "name": "stdout",
     "output_type": "stream",
     "text": [
      "3\n",
      "<class 'int'>\n",
      "7.5\n",
      "<class 'float'>\n",
      "hello\n",
      "<class 'str'>\n",
      "<class 'bool'>\n",
      "True\n"
     ]
    }
   ],
   "source": [
    "# Does Python Variable with Type Concept? Yes\n",
    "# Java -> Static (Compile Time) + Strong\n",
    "# Python -> Dynamic + Strong\n",
    "\n",
    "x = 3\n",
    "print(x)\n",
    "print(type(x))\n",
    "\n",
    "x = 7.5\n",
    "print(x)\n",
    "print(type(x))\n",
    "\n",
    "x = 'hello'\n",
    "print(x)\n",
    "print(type(x))\n",
    "\n",
    "x = False\n",
    "x = True\n",
    "print(type(x))\n",
    "print(x)"
   ]
  },
  {
   "cell_type": "code",
   "execution_count": 12,
   "id": "000bb374",
   "metadata": {},
   "outputs": [
    {
     "name": "stdout",
     "output_type": "stream",
     "text": [
      "John\n",
      "Mary\n",
      "abc\n",
      "def\n",
      "hellohellohello\n",
      "hellohellohellohello\n",
      "hellohellohellohellohello\n"
     ]
    }
   ],
   "source": [
    "# str\n",
    "name = 'John'\n",
    "first_name = \"Mary\"\n",
    "print(name)\n",
    "print(first_name)\n",
    "\n",
    "print('abc')\n",
    "print(\"def\")\n",
    "\n",
    "# + and *\n",
    "s = 'hello'\n",
    "s = s * 3\n",
    "print(s)\n",
    "\n",
    "s = s + 'hello'\n",
    "print(s)\n",
    "\n",
    "s += 'hello'\n",
    "print(s)"
   ]
  },
  {
   "cell_type": "code",
   "execution_count": 17,
   "id": "095fee42",
   "metadata": {},
   "outputs": [
    {
     "name": "stdout",
     "output_type": "stream",
     "text": [
      "3.3333333333333335\n",
      "0.30000000000000004\n"
     ]
    }
   ],
   "source": [
    "# java: find min and max (1 loop)\n",
    "# python: 2 llops (call min function, call max function)\n",
    "\n",
    "result = 10 / 3\n",
    "print (result)\n",
    "\n",
    "# floating point issue\n",
    "result2 = 0.2 + 0.1\n",
    "print(result2)"
   ]
  },
  {
   "cell_type": "code",
   "execution_count": null,
   "id": "cc884c2b",
   "metadata": {},
   "outputs": [],
   "source": []
  }
 ],
 "metadata": {
  "kernelspec": {
   "display_name": "Python 3",
   "language": "python",
   "name": "python3"
  },
  "language_info": {
   "codemirror_mode": {
    "name": "ipython",
    "version": 3
   },
   "file_extension": ".py",
   "mimetype": "text/x-python",
   "name": "python",
   "nbconvert_exporter": "python",
   "pygments_lexer": "ipython3",
   "version": "3.13.8"
  }
 },
 "nbformat": 4,
 "nbformat_minor": 5
}
